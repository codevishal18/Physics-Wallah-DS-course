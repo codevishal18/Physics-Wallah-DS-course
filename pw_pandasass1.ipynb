{
 "cells": [
  {
   "cell_type": "code",
   "execution_count": 1,
   "id": "e109914d",
   "metadata": {},
   "outputs": [
    {
     "name": "stdout",
     "output_type": "stream",
     "text": [
      "0     4\n",
      "1     8\n",
      "2    15\n",
      "3    16\n",
      "4    23\n",
      "5    42\n",
      "dtype: int64\n"
     ]
    }
   ],
   "source": [
    "import pandas as pd\n",
    "\n",
    "data = [4, 8, 15, 16, 23, 42]\n",
    "series = pd.Series(data)\n",
    "\n",
    "print(series)"
   ]
  },
  {
   "cell_type": "code",
   "execution_count": 2,
   "id": "ede2e8c3",
   "metadata": {},
   "outputs": [
    {
     "name": "stdout",
     "output_type": "stream",
     "text": [
      "0     4\n",
      "1     8\n",
      "2    15\n",
      "3    16\n",
      "4    23\n",
      "5    42\n",
      "6    10\n",
      "7    20\n",
      "8    13\n",
      "9    27\n",
      "dtype: int64\n"
     ]
    }
   ],
   "source": [
    "data = [4, 8, 15, 16, 23, 42, 10, 20, 13, 27]\n",
    "series = pd.Series(data)\n",
    "\n",
    "print(series)"
   ]
  },
  {
   "cell_type": "code",
   "execution_count": 4,
   "id": "c4aaf6a1",
   "metadata": {},
   "outputs": [
    {
     "name": "stdout",
     "output_type": "stream",
     "text": [
      "     Name Age  Gender\n",
      "0   Alice  25  Female\n",
      "1     Bob  30    Male\n",
      "2  claire  27  Female\n"
     ]
    }
   ],
   "source": [
    "data = {\"Name\" : ['Alice','Bob','claire'], \"Age\" : ['25','30','27'], \"Gender\" : ['Female','Male','Female']}\n",
    "dataframe = pd.DataFrame(data)\n",
    "print(dataframe)        "
   ]
  },
  {
   "cell_type": "markdown",
   "id": "2846d00b",
   "metadata": {},
   "source": [
    "In Pandas, a DataFrame is a 2-dimensional labeled data structure with columns of potentially different types. A DataFrame can be thought of as a dictionary of Series objects, where each column represents a Series. It is a powerful and flexible data structure that can handle different types of data and perform various data manipulations.\n",
    "\n",
    "On the other hand, a pandas.Series is a one-dimensional labeled array that can hold data of any type, including integer, float, string, and others. It is similar to a column in a spreadsheet or a column in a database table.\n",
    "\n",
    "Here is an example that demonstrates the difference between a DataFrame and a Series:"
   ]
  },
  {
   "cell_type": "code",
   "execution_count": 5,
   "id": "e6ecde0c",
   "metadata": {},
   "outputs": [
    {
     "name": "stdout",
     "output_type": "stream",
     "text": [
      "0    25\n",
      "1    30\n",
      "2    35\n",
      "3    40\n",
      "Name: age, dtype: int64\n",
      "30\n"
     ]
    }
   ],
   "source": [
    "import pandas as pd\n",
    "\n",
    "# Creating a DataFrame\n",
    "data = {'name': ['Alice', 'Bob', 'Charlie', 'David'],\n",
    "        'age': [25, 30, 35, 40],\n",
    "        'city': ['New York', 'Paris', 'London', 'San Francisco']}\n",
    "df = pd.DataFrame(data)\n",
    "\n",
    "# Creating a Series\n",
    "ages = pd.Series([25, 30, 35, 40], name='age')\n",
    "\n",
    "# Accessing a column from DataFrame\n",
    "print(df['age'])\n",
    "\n",
    "# Accessing a value from Series\n",
    "print(ages[1])\n"
   ]
  },
  {
   "cell_type": "markdown",
   "id": "6549251e",
   "metadata": {},
   "source": [
    "Pandas provides many functions to manipulate data in a DataFrame. Some common functions include:\n",
    "\n",
    "head() and tail() - These functions allow you to preview the first or last few rows of your DataFrame, respectively.\n",
    "describe() - This function generates descriptive statistics of your DataFrame, including count, mean, standard deviation, minimum, and maximum values.\n",
    "groupby() - This function groups data by one or more columns and allows you to perform calculations on each group.\n",
    "dropna() - This function drops any rows with missing values from your DataFrame.\n",
    "sort_values() - This function sorts your DataFrame by one or more columns.\n",
    "apply() - This function applies a function to each element or row of your DataFrame.\n",
    "merge() - This function combines two DataFrames based on one or more common columns."
   ]
  },
  {
   "cell_type": "code",
   "execution_count": 10,
   "id": "6b80887e",
   "metadata": {},
   "outputs": [
    {
     "name": "stdout",
     "output_type": "stream",
     "text": [
      "   sepal_length  sepal_width  petal_length  petal_width species\n",
      "0           5.1          3.5           1.4          0.2  setosa\n",
      "1           4.9          3.0           1.4          0.2  setosa\n",
      "2           4.7          3.2           1.3          0.2  setosa\n",
      "3           4.6          3.1           1.5          0.2  setosa\n",
      "4           5.0          3.6           1.4          0.2  setosa\n",
      "     sepal_length  sepal_width  petal_length  petal_width    species\n",
      "140           6.7          3.1           5.6          2.4  virginica\n",
      "141           6.9          3.1           5.1          2.3  virginica\n",
      "142           5.8          2.7           5.1          1.9  virginica\n",
      "143           6.8          3.2           5.9          2.3  virginica\n",
      "144           6.7          3.3           5.7          2.5  virginica\n",
      "145           6.7          3.0           5.2          2.3  virginica\n",
      "146           6.3          2.5           5.0          1.9  virginica\n",
      "147           6.5          3.0           5.2          2.0  virginica\n",
      "148           6.2          3.4           5.4          2.3  virginica\n",
      "149           5.9          3.0           5.1          1.8  virginica\n",
      "       sepal_length  sepal_width  petal_length  petal_width\n",
      "count    150.000000   150.000000    150.000000   150.000000\n",
      "mean       5.843333     3.057333      3.758000     1.199333\n",
      "std        0.828066     0.435866      1.765298     0.762238\n",
      "min        4.300000     2.000000      1.000000     0.100000\n",
      "25%        5.100000     2.800000      1.600000     0.300000\n",
      "50%        5.800000     3.000000      4.350000     1.300000\n",
      "75%        6.400000     3.300000      5.100000     1.800000\n",
      "max        7.900000     4.400000      6.900000     2.500000\n",
      "sepal_length\n",
      "4.3    4.3\n",
      "4.4    4.4\n",
      "4.5    4.5\n",
      "4.6    4.6\n",
      "4.7    4.7\n",
      "4.8    4.8\n",
      "4.9    4.9\n",
      "5.0    5.0\n",
      "5.1    5.1\n",
      "5.2    5.2\n",
      "5.3    5.3\n",
      "5.4    5.4\n",
      "5.5    5.5\n",
      "5.6    5.6\n",
      "5.7    5.7\n",
      "5.8    5.8\n",
      "5.9    5.9\n",
      "6.0    6.0\n",
      "6.1    6.1\n",
      "6.2    6.2\n",
      "6.3    6.3\n",
      "6.4    6.4\n",
      "6.5    6.5\n",
      "6.6    6.6\n",
      "6.7    6.7\n",
      "6.8    6.8\n",
      "6.9    6.9\n",
      "7.0    7.0\n",
      "7.1    7.1\n",
      "7.2    7.2\n",
      "7.3    7.3\n",
      "7.4    7.4\n",
      "7.6    7.6\n",
      "7.7    7.7\n",
      "7.9    7.9\n",
      "Name: sepal_length, dtype: float64\n"
     ]
    }
   ],
   "source": [
    "import pandas as pd\n",
    "import seaborn as sns\n",
    "df1 = sns.load_dataset('iris')\n",
    "df2 = sns.load_dataset('titanic')\n",
    "print(df1.head())  # Returns first 5 rows of the DataFrame\n",
    "print(df1.tail(10))  # Returns last 10 rows of the DataFrame\n",
    "print(df1.describe())\n",
    "grouped_df = df1.groupby(['sepal_length'])\n",
    "print(grouped_df['sepal_length'].mean())  # Calculates the mean price for each category\n",
    "clean_df = df1.dropna()\n",
    "sorted_df = df1.sort_values(['sepal_length', 'petal_length'], ascending=[True, False])"
   ]
  },
  {
   "cell_type": "markdown",
   "id": "aeaf072a",
   "metadata": {},
   "source": [
    "Both Series and DataFrame are mutable in nature. This means that you can modify their values, add new elements, delete elements, or change their properties. On the other hand, Panel is not mutable, and it is recommended to use multi-indexing with DataFrames instead of using a Panel.\n",
    "\n",
    "Note that while Series and DataFrames are mutable, it is generally recommended to avoid modifying them in place as this can cause unexpected behavior and potentially introduce bugs in your code. Instead, it is better to create a new copy of the modified data structure."
   ]
  },
  {
   "cell_type": "code",
   "execution_count": 14,
   "id": "1d4d730b",
   "metadata": {},
   "outputs": [
    {
     "name": "stdout",
     "output_type": "stream",
     "text": [
      "    Fruit  Price\n",
      "0   Apple    1.0\n",
      "1  Banana    0.5\n",
      "2  Cherry    2.5\n",
      "3  Durian    8.0\n"
     ]
    }
   ],
   "source": [
    "import pandas as pd\n",
    "\n",
    "# Creating a series of fruits and their corresponding prices\n",
    "fruits = pd.Series([\"Apple\", \"Banana\", \"Cherry\", \"Durian\"])\n",
    "prices = pd.Series([1.00, 0.50, 2.50, 8.00])\n",
    "\n",
    "# Creating a DataFrame by combining the two Series\n",
    "fruit_prices_df = pd.DataFrame({\"Fruit\": fruits, \"Price\": prices})\n",
    "\n",
    "# Printing the resulting DataFrame\n",
    "print(fruit_prices_df)\n"
   ]
  },
  {
   "cell_type": "code",
   "execution_count": null,
   "id": "5e5848d5",
   "metadata": {},
   "outputs": [],
   "source": []
  }
 ],
 "metadata": {
  "kernelspec": {
   "display_name": "Python 3 (ipykernel)",
   "language": "python",
   "name": "python3"
  },
  "language_info": {
   "codemirror_mode": {
    "name": "ipython",
    "version": 3
   },
   "file_extension": ".py",
   "mimetype": "text/x-python",
   "name": "python",
   "nbconvert_exporter": "python",
   "pygments_lexer": "ipython3",
   "version": "3.9.13"
  }
 },
 "nbformat": 4,
 "nbformat_minor": 5
}
